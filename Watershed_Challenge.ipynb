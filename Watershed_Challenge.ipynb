{
 "cells": [
  {
   "cell_type": "markdown",
   "id": "cc1f0a00",
   "metadata": {},
   "source": [
    "Watershed Challenge\n",
    "Daniel Geraldini Zem"
   ]
  },
  {
   "cell_type": "markdown",
   "id": "19987272",
   "metadata": {},
   "source": [
    "# Modules"
   ]
  },
  {
   "cell_type": "code",
   "execution_count": 1,
   "id": "85121bd5",
   "metadata": {},
   "outputs": [],
   "source": [
    "import pandas as pd\n",
    "import numpy as np\n",
    "import matplotlib.pyplot as plt\n",
    "import seaborn as sns\n",
    "from sklearn import preprocessing\n",
    "from sklearn.model_selection import train_test_split\n",
    "from sklearn.linear_model import LogisticRegression\n",
    "from sklearn.metrics import confusion_matrix, accuracy_score "
   ]
  },
  {
   "cell_type": "markdown",
   "id": "d1b6f87b",
   "metadata": {},
   "source": [
    "# 1. Importing Dataset"
   ]
  },
  {
   "cell_type": "code",
   "execution_count": 3,
   "id": "9b5be1c6",
   "metadata": {},
   "outputs": [],
   "source": [
    "flux_df = pd.read_csv(r\"C:\\Users\\danie\\OneDrive\\Área de Trabalho\\Bain Company\\flux.csv\")"
   ]
  },
  {
   "cell_type": "markdown",
   "id": "a6d49fa2",
   "metadata": {},
   "source": [
    "# 2. EDA"
   ]
  },
  {
   "cell_type": "code",
   "execution_count": 5,
   "id": "593db2f8",
   "metadata": {},
   "outputs": [
    {
     "name": "stdout",
     "output_type": "stream",
     "text": [
      "<class 'pandas.core.frame.DataFrame'>\n",
      "RangeIndex: 4180480 entries, 0 to 4180479\n",
      "Data columns (total 10 columns):\n",
      " #   Column      Dtype  \n",
      "---  ------      -----  \n",
      " 0   date        object \n",
      " 1   basin_id    int64  \n",
      " 2   flux        float64\n",
      " 3   precip      float64\n",
      " 4   temp_max    float64\n",
      " 5   gauge_name  object \n",
      " 6   lat         float64\n",
      " 7   lon         float64\n",
      " 8   mean_elev   float64\n",
      " 9   area_km2    float64\n",
      "dtypes: float64(7), int64(1), object(2)\n",
      "memory usage: 318.9+ MB\n"
     ]
    },
    {
     "data": {
      "text/html": [
       "<div>\n",
       "<style scoped>\n",
       "    .dataframe tbody tr th:only-of-type {\n",
       "        vertical-align: middle;\n",
       "    }\n",
       "\n",
       "    .dataframe tbody tr th {\n",
       "        vertical-align: top;\n",
       "    }\n",
       "\n",
       "    .dataframe thead th {\n",
       "        text-align: right;\n",
       "    }\n",
       "</style>\n",
       "<table border=\"1\" class=\"dataframe\">\n",
       "  <thead>\n",
       "    <tr style=\"text-align: right;\">\n",
       "      <th></th>\n",
       "      <th>basin_id</th>\n",
       "      <th>flux</th>\n",
       "      <th>precip</th>\n",
       "      <th>temp_max</th>\n",
       "      <th>lat</th>\n",
       "      <th>lon</th>\n",
       "      <th>mean_elev</th>\n",
       "      <th>area_km2</th>\n",
       "    </tr>\n",
       "  </thead>\n",
       "  <tbody>\n",
       "    <tr>\n",
       "      <th>count</th>\n",
       "      <td>4.180480e+06</td>\n",
       "      <td>4.180480e+06</td>\n",
       "      <td>4.175037e+06</td>\n",
       "      <td>4.175037e+06</td>\n",
       "      <td>4.180480e+06</td>\n",
       "      <td>4.180480e+06</td>\n",
       "      <td>4.180480e+06</td>\n",
       "      <td>4.180480e+06</td>\n",
       "    </tr>\n",
       "    <tr>\n",
       "      <th>mean</th>\n",
       "      <td>7.179757e+06</td>\n",
       "      <td>5.253340e+01</td>\n",
       "      <td>2.947445e+00</td>\n",
       "      <td>1.365728e+01</td>\n",
       "      <td>-3.569572e+01</td>\n",
       "      <td>-7.129595e+01</td>\n",
       "      <td>1.760129e+03</td>\n",
       "      <td>2.404876e+03</td>\n",
       "    </tr>\n",
       "    <tr>\n",
       "      <th>std</th>\n",
       "      <td>3.180965e+06</td>\n",
       "      <td>1.676027e+02</td>\n",
       "      <td>8.766749e+00</td>\n",
       "      <td>6.615037e+00</td>\n",
       "      <td>8.047659e+00</td>\n",
       "      <td>1.254339e+00</td>\n",
       "      <td>1.382121e+03</td>\n",
       "      <td>4.322051e+03</td>\n",
       "    </tr>\n",
       "    <tr>\n",
       "      <th>min</th>\n",
       "      <td>1.001001e+06</td>\n",
       "      <td>0.000000e+00</td>\n",
       "      <td>0.000000e+00</td>\n",
       "      <td>-1.160359e+01</td>\n",
       "      <td>-5.494690e+01</td>\n",
       "      <td>-7.366670e+01</td>\n",
       "      <td>1.181229e+02</td>\n",
       "      <td>1.789123e+01</td>\n",
       "    </tr>\n",
       "    <tr>\n",
       "      <th>25%</th>\n",
       "      <td>4.558001e+06</td>\n",
       "      <td>8.680000e-01</td>\n",
       "      <td>0.000000e+00</td>\n",
       "      <td>9.162867e+00</td>\n",
       "      <td>-3.915000e+01</td>\n",
       "      <td>-7.231670e+01</td>\n",
       "      <td>5.847012e+02</td>\n",
       "      <td>3.761001e+02</td>\n",
       "    </tr>\n",
       "    <tr>\n",
       "      <th>50%</th>\n",
       "      <td>7.350003e+06</td>\n",
       "      <td>5.171000e+00</td>\n",
       "      <td>0.000000e+00</td>\n",
       "      <td>1.321396e+01</td>\n",
       "      <td>-3.588420e+01</td>\n",
       "      <td>-7.137190e+01</td>\n",
       "      <td>1.195311e+03</td>\n",
       "      <td>8.205541e+02</td>\n",
       "    </tr>\n",
       "    <tr>\n",
       "      <th>75%</th>\n",
       "      <td>9.416001e+06</td>\n",
       "      <td>2.990000e+01</td>\n",
       "      <td>6.422626e-01</td>\n",
       "      <td>1.805745e+01</td>\n",
       "      <td>-3.126560e+01</td>\n",
       "      <td>-7.050670e+01</td>\n",
       "      <td>3.048161e+03</td>\n",
       "      <td>2.461610e+03</td>\n",
       "    </tr>\n",
       "    <tr>\n",
       "      <th>max</th>\n",
       "      <td>1.293000e+07</td>\n",
       "      <td>1.580500e+04</td>\n",
       "      <td>2.132120e+02</td>\n",
       "      <td>4.081117e+01</td>\n",
       "      <td>-1.784280e+01</td>\n",
       "      <td>-6.763920e+01</td>\n",
       "      <td>4.910152e+03</td>\n",
       "      <td>5.224367e+04</td>\n",
       "    </tr>\n",
       "  </tbody>\n",
       "</table>\n",
       "</div>"
      ],
      "text/plain": [
       "           basin_id          flux        precip      temp_max           lat  \\\n",
       "count  4.180480e+06  4.180480e+06  4.175037e+06  4.175037e+06  4.180480e+06   \n",
       "mean   7.179757e+06  5.253340e+01  2.947445e+00  1.365728e+01 -3.569572e+01   \n",
       "std    3.180965e+06  1.676027e+02  8.766749e+00  6.615037e+00  8.047659e+00   \n",
       "min    1.001001e+06  0.000000e+00  0.000000e+00 -1.160359e+01 -5.494690e+01   \n",
       "25%    4.558001e+06  8.680000e-01  0.000000e+00  9.162867e+00 -3.915000e+01   \n",
       "50%    7.350003e+06  5.171000e+00  0.000000e+00  1.321396e+01 -3.588420e+01   \n",
       "75%    9.416001e+06  2.990000e+01  6.422626e-01  1.805745e+01 -3.126560e+01   \n",
       "max    1.293000e+07  1.580500e+04  2.132120e+02  4.081117e+01 -1.784280e+01   \n",
       "\n",
       "                lon     mean_elev      area_km2  \n",
       "count  4.180480e+06  4.180480e+06  4.180480e+06  \n",
       "mean  -7.129595e+01  1.760129e+03  2.404876e+03  \n",
       "std    1.254339e+00  1.382121e+03  4.322051e+03  \n",
       "min   -7.366670e+01  1.181229e+02  1.789123e+01  \n",
       "25%   -7.231670e+01  5.847012e+02  3.761001e+02  \n",
       "50%   -7.137190e+01  1.195311e+03  8.205541e+02  \n",
       "75%   -7.050670e+01  3.048161e+03  2.461610e+03  \n",
       "max   -6.763920e+01  4.910152e+03  5.224367e+04  "
      ]
     },
     "execution_count": 5,
     "metadata": {},
     "output_type": "execute_result"
    }
   ],
   "source": [
    "# First of all, take a look how the data is organized\n",
    "flux_df.info()\n",
    "flux_df.describe()"
   ]
  },
  {
   "cell_type": "code",
   "execution_count": 10,
   "id": "d2d5b8b9",
   "metadata": {},
   "outputs": [],
   "source": [
    "# Looking at the data types, \"date\" should be converted to datetime format and \"basin_id\" will be converted into string since\n",
    "# there are no quantitative value for it. Other data's types are fine.\n",
    "flux_df[\"date\"] = flux_df[\"date\"].astype(\"datetime64\")\n",
    "flux_df[\"basin_id\"] = flux_df[\"basin_id\"].astype(str)"
   ]
  },
  {
   "cell_type": "code",
   "execution_count": 11,
   "id": "8153bcdb",
   "metadata": {},
   "outputs": [
    {
     "data": {
      "text/plain": [
       "date             0\n",
       "basin_id         0\n",
       "flux             0\n",
       "precip        5443\n",
       "temp_max      5443\n",
       "gauge_name       0\n",
       "lat              0\n",
       "lon              0\n",
       "mean_elev        0\n",
       "area_km2         0\n",
       "dtype: int64"
      ]
     },
     "execution_count": 11,
     "metadata": {},
     "output_type": "execute_result"
    }
   ],
   "source": [
    "# Now checking for missing values\n",
    "flux_df.isna().sum() # Here we will see that there are 5443 missing values in \"precip\" and \"temp_max\""
   ]
  },
  {
   "cell_type": "code",
   "execution_count": 13,
   "id": "f1847fc0",
   "metadata": {},
   "outputs": [
    {
     "data": {
      "text/plain": [
       "2020    5443\n",
       "Name: date, dtype: int64"
      ]
     },
     "execution_count": 13,
     "metadata": {},
     "output_type": "execute_result"
    }
   ],
   "source": [
    "# Lets check how this missing data is spread along the years of our dataset\n",
    "nan_by_year = flux_df[[\"date\",\"precip\",\"temp_max\"]].copy()\n",
    "nan_by_year = nan_by_year[(nan_by_year[\"precip\"].isna()) | (nan_by_year[\"temp_max\"].isna())]\n",
    "nan_by_year = nan_by_year[\"date\"].apply(lambda x: x.year).value_counts()\n",
    "nan_by_year\n",
    "# Since all the data is from 2020."
   ]
  },
  {
   "cell_type": "code",
   "execution_count": 15,
   "id": "1bcdf631",
   "metadata": {},
   "outputs": [
    {
     "data": {
      "text/html": [
       "<div>\n",
       "<style scoped>\n",
       "    .dataframe tbody tr th:only-of-type {\n",
       "        vertical-align: middle;\n",
       "    }\n",
       "\n",
       "    .dataframe tbody tr th {\n",
       "        vertical-align: top;\n",
       "    }\n",
       "\n",
       "    .dataframe thead th {\n",
       "        text-align: right;\n",
       "    }\n",
       "</style>\n",
       "<table border=\"1\" class=\"dataframe\">\n",
       "  <thead>\n",
       "    <tr style=\"text-align: right;\">\n",
       "      <th></th>\n",
       "      <th>data_percentage</th>\n",
       "    </tr>\n",
       "  </thead>\n",
       "  <tbody>\n",
       "    <tr>\n",
       "      <th>2012</th>\n",
       "      <td>3.066705</td>\n",
       "    </tr>\n",
       "    <tr>\n",
       "      <th>2013</th>\n",
       "      <td>3.032188</td>\n",
       "    </tr>\n",
       "    <tr>\n",
       "      <th>2010</th>\n",
       "      <td>2.956120</td>\n",
       "    </tr>\n",
       "    <tr>\n",
       "      <th>2007</th>\n",
       "      <td>2.948609</td>\n",
       "    </tr>\n",
       "    <tr>\n",
       "      <th>2005</th>\n",
       "      <td>2.931888</td>\n",
       "    </tr>\n",
       "    <tr>\n",
       "      <th>2011</th>\n",
       "      <td>2.924975</td>\n",
       "    </tr>\n",
       "    <tr>\n",
       "      <th>2004</th>\n",
       "      <td>2.894476</td>\n",
       "    </tr>\n",
       "    <tr>\n",
       "      <th>2016</th>\n",
       "      <td>2.871058</td>\n",
       "    </tr>\n",
       "    <tr>\n",
       "      <th>2014</th>\n",
       "      <td>2.862901</td>\n",
       "    </tr>\n",
       "    <tr>\n",
       "      <th>2006</th>\n",
       "      <td>2.858428</td>\n",
       "    </tr>\n",
       "    <tr>\n",
       "      <th>2008</th>\n",
       "      <td>2.843453</td>\n",
       "    </tr>\n",
       "    <tr>\n",
       "      <th>2018</th>\n",
       "      <td>2.841564</td>\n",
       "    </tr>\n",
       "    <tr>\n",
       "      <th>2009</th>\n",
       "      <td>2.828503</td>\n",
       "    </tr>\n",
       "    <tr>\n",
       "      <th>2003</th>\n",
       "      <td>2.826733</td>\n",
       "    </tr>\n",
       "    <tr>\n",
       "      <th>2015</th>\n",
       "      <td>2.805276</td>\n",
       "    </tr>\n",
       "    <tr>\n",
       "      <th>2017</th>\n",
       "      <td>2.758200</td>\n",
       "    </tr>\n",
       "    <tr>\n",
       "      <th>2002</th>\n",
       "      <td>2.551382</td>\n",
       "    </tr>\n",
       "    <tr>\n",
       "      <th>2001</th>\n",
       "      <td>2.483423</td>\n",
       "    </tr>\n",
       "    <tr>\n",
       "      <th>1996</th>\n",
       "      <td>2.458665</td>\n",
       "    </tr>\n",
       "    <tr>\n",
       "      <th>2000</th>\n",
       "      <td>2.451106</td>\n",
       "    </tr>\n",
       "    <tr>\n",
       "      <th>1995</th>\n",
       "      <td>2.423573</td>\n",
       "    </tr>\n",
       "    <tr>\n",
       "      <th>1999</th>\n",
       "      <td>2.399437</td>\n",
       "    </tr>\n",
       "    <tr>\n",
       "      <th>1998</th>\n",
       "      <td>2.381760</td>\n",
       "    </tr>\n",
       "    <tr>\n",
       "      <th>1997</th>\n",
       "      <td>2.370996</td>\n",
       "    </tr>\n",
       "    <tr>\n",
       "      <th>1994</th>\n",
       "      <td>2.357026</td>\n",
       "    </tr>\n",
       "    <tr>\n",
       "      <th>2019</th>\n",
       "      <td>2.340760</td>\n",
       "    </tr>\n",
       "    <tr>\n",
       "      <th>1992</th>\n",
       "      <td>2.299425</td>\n",
       "    </tr>\n",
       "    <tr>\n",
       "      <th>1989</th>\n",
       "      <td>2.281939</td>\n",
       "    </tr>\n",
       "    <tr>\n",
       "      <th>1990</th>\n",
       "      <td>2.264596</td>\n",
       "    </tr>\n",
       "    <tr>\n",
       "      <th>1993</th>\n",
       "      <td>2.248809</td>\n",
       "    </tr>\n",
       "    <tr>\n",
       "      <th>1991</th>\n",
       "      <td>2.233093</td>\n",
       "    </tr>\n",
       "    <tr>\n",
       "      <th>1988</th>\n",
       "      <td>2.180539</td>\n",
       "    </tr>\n",
       "    <tr>\n",
       "      <th>1987</th>\n",
       "      <td>2.155303</td>\n",
       "    </tr>\n",
       "    <tr>\n",
       "      <th>1986</th>\n",
       "      <td>2.089569</td>\n",
       "    </tr>\n",
       "    <tr>\n",
       "      <th>1985</th>\n",
       "      <td>1.970802</td>\n",
       "    </tr>\n",
       "    <tr>\n",
       "      <th>1982</th>\n",
       "      <td>1.946451</td>\n",
       "    </tr>\n",
       "    <tr>\n",
       "      <th>1983</th>\n",
       "      <td>1.924420</td>\n",
       "    </tr>\n",
       "    <tr>\n",
       "      <th>1981</th>\n",
       "      <td>1.822159</td>\n",
       "    </tr>\n",
       "    <tr>\n",
       "      <th>1984</th>\n",
       "      <td>1.797066</td>\n",
       "    </tr>\n",
       "    <tr>\n",
       "      <th>1980</th>\n",
       "      <td>1.698704</td>\n",
       "    </tr>\n",
       "    <tr>\n",
       "      <th>2020</th>\n",
       "      <td>0.617919</td>\n",
       "    </tr>\n",
       "  </tbody>\n",
       "</table>\n",
       "</div>"
      ],
      "text/plain": [
       "      data_percentage\n",
       "2012         3.066705\n",
       "2013         3.032188\n",
       "2010         2.956120\n",
       "2007         2.948609\n",
       "2005         2.931888\n",
       "2011         2.924975\n",
       "2004         2.894476\n",
       "2016         2.871058\n",
       "2014         2.862901\n",
       "2006         2.858428\n",
       "2008         2.843453\n",
       "2018         2.841564\n",
       "2009         2.828503\n",
       "2003         2.826733\n",
       "2015         2.805276\n",
       "2017         2.758200\n",
       "2002         2.551382\n",
       "2001         2.483423\n",
       "1996         2.458665\n",
       "2000         2.451106\n",
       "1995         2.423573\n",
       "1999         2.399437\n",
       "1998         2.381760\n",
       "1997         2.370996\n",
       "1994         2.357026\n",
       "2019         2.340760\n",
       "1992         2.299425\n",
       "1989         2.281939\n",
       "1990         2.264596\n",
       "1993         2.248809\n",
       "1991         2.233093\n",
       "1988         2.180539\n",
       "1987         2.155303\n",
       "1986         2.089569\n",
       "1985         1.970802\n",
       "1982         1.946451\n",
       "1983         1.924420\n",
       "1981         1.822159\n",
       "1984         1.797066\n",
       "1980         1.698704\n",
       "2020         0.617919"
      ]
     },
     "execution_count": 15,
     "metadata": {},
     "output_type": "execute_result"
    },
    {
     "data": {
      "image/png": "[encoded data removed]",
      "text/plain": [
       "<Figure size 432x288 with 1 Axes>"
      ]
     },
     "metadata": {
      "needs_background": "light"
     },
     "output_type": "display_data"
    }
   ],
   "source": [
    "# Now we'll check how much data from 2020 we have.\n",
    "occurence_by_year = flux_df[\"date\"].apply(lambda x: x.year).value_counts().plot(kind='barh', xlabel='years', ylabel='Frequency', title=\"Frequency of Extreme Flux by Base Id\")\n",
    "occurence_by_year_df = (100*flux_df[\"date\"].apply(lambda x: x.year).value_counts()/flux_df[\"date\"].count()).to_frame(name=\"data_percentage\")\n",
    "occurence_by_year_df\n",
    "# Since 2020 represents only 0.61% of our data and has fewer records than the other years, we will delete it."
   ]
  },
  {
   "cell_type": "code",
   "execution_count": 16,
   "id": "944dd06e",
   "metadata": {},
   "outputs": [
    {
     "data": {
      "text/plain": [
       "date          0\n",
       "basin_id      0\n",
       "flux          0\n",
       "precip        0\n",
       "temp_max      0\n",
       "gauge_name    0\n",
       "lat           0\n",
       "lon           0\n",
       "mean_elev     0\n",
       "area_km2      0\n",
       "dtype: int64"
      ]
     },
     "execution_count": 16,
     "metadata": {},
     "output_type": "execute_result"
    }
   ],
   "source": [
    "# Here we make sure that there are no more missing values.\n",
    "flux_df = flux_df[flux_df[\"date\"] < np.datetime64('2020-01-01')]\n",
    "flux_df.isna().sum() "
   ]
  },
  {
   "cell_type": "code",
   "execution_count": 19,
   "id": "32e836d3",
   "metadata": {},
   "outputs": [
    {
     "data": {
      "text/plain": [
       "<AxesSubplot:title={'center':'Frequency of Extreme Flux by Base Id'}, ylabel='years'>"
      ]
     },
     "execution_count": 19,
     "metadata": {},
     "output_type": "execute_result"
    },
    {
     "data": {
      "image/png": "[encoded data removed]",
      "text/plain": [
       "<Figure size 432x288 with 1 Axes>"
      ]
     },
     "metadata": {
      "needs_background": "light"
     },
     "output_type": "display_data"
    }
   ],
   "source": [
    "# Now the numbers of record by Base ID (basin_id) will be analyzed.\n",
    "occurence_by_base_id_df = flux_df[\"basin_id\"].value_counts().to_frame(name=\"data_records\")\n",
    "occurence_by_base_id_df.plot(kind='barh', xlabel='years', ylabel='Frequency', title=\"Frequency of Extreme Flux by Base Id\")\n",
    "# Looking only at the bars without worrying with the base id labels on y-axis, we can see that there are some Bases that have\n",
    "# fewer values than others, since the ones with the most data have around 14k records, we will exclude from the dataset the bases\n",
    "# that have less than 7000 records so we can be \"safe\" to deal with a wide range of dates."
   ]
  },
  {
   "cell_type": "code",
   "execution_count": 21,
   "id": "ef4a5c4a",
   "metadata": {},
   "outputs": [
    {
     "data": {
      "text/html": [
       "<div>\n",
       "<style scoped>\n",
       "    .dataframe tbody tr th:only-of-type {\n",
       "        vertical-align: middle;\n",
       "    }\n",
       "\n",
       "    .dataframe tbody tr th {\n",
       "        vertical-align: top;\n",
       "    }\n",
       "\n",
       "    .dataframe thead th {\n",
       "        text-align: right;\n",
       "    }\n",
       "</style>\n",
       "<table border=\"1\" class=\"dataframe\">\n",
       "  <thead>\n",
       "    <tr style=\"text-align: right;\">\n",
       "      <th></th>\n",
       "      <th>date</th>\n",
       "      <th>basin_id</th>\n",
       "      <th>flux</th>\n",
       "      <th>precip</th>\n",
       "      <th>temp_max</th>\n",
       "      <th>gauge_name</th>\n",
       "      <th>lat</th>\n",
       "      <th>lon</th>\n",
       "      <th>mean_elev</th>\n",
       "      <th>area_km2</th>\n",
       "    </tr>\n",
       "  </thead>\n",
       "  <tbody>\n",
       "    <tr>\n",
       "      <th>6125</th>\n",
       "      <td>1980-01-01</td>\n",
       "      <td>1001002</td>\n",
       "      <td>1.620</td>\n",
       "      <td>0.000000</td>\n",
       "      <td>11.287282</td>\n",
       "      <td>Rio Caquena En Vertedero</td>\n",
       "      <td>-17.9942</td>\n",
       "      <td>-69.2550</td>\n",
       "      <td>4652.603986</td>\n",
       "      <td>467.556222</td>\n",
       "    </tr>\n",
       "    <tr>\n",
       "      <th>6126</th>\n",
       "      <td>1980-01-02</td>\n",
       "      <td>1001002</td>\n",
       "      <td>1.240</td>\n",
       "      <td>0.000000</td>\n",
       "      <td>12.078774</td>\n",
       "      <td>Rio Caquena En Vertedero</td>\n",
       "      <td>-17.9942</td>\n",
       "      <td>-69.2550</td>\n",
       "      <td>4652.603986</td>\n",
       "      <td>467.556222</td>\n",
       "    </tr>\n",
       "    <tr>\n",
       "      <th>6127</th>\n",
       "      <td>1980-01-03</td>\n",
       "      <td>1001002</td>\n",
       "      <td>1.010</td>\n",
       "      <td>0.000000</td>\n",
       "      <td>12.563833</td>\n",
       "      <td>Rio Caquena En Vertedero</td>\n",
       "      <td>-17.9942</td>\n",
       "      <td>-69.2550</td>\n",
       "      <td>4652.603986</td>\n",
       "      <td>467.556222</td>\n",
       "    </tr>\n",
       "    <tr>\n",
       "      <th>6128</th>\n",
       "      <td>1980-01-04</td>\n",
       "      <td>1001002</td>\n",
       "      <td>0.830</td>\n",
       "      <td>0.000000</td>\n",
       "      <td>13.077723</td>\n",
       "      <td>Rio Caquena En Vertedero</td>\n",
       "      <td>-17.9942</td>\n",
       "      <td>-69.2550</td>\n",
       "      <td>4652.603986</td>\n",
       "      <td>467.556222</td>\n",
       "    </tr>\n",
       "    <tr>\n",
       "      <th>6129</th>\n",
       "      <td>1980-01-05</td>\n",
       "      <td>1001002</td>\n",
       "      <td>0.753</td>\n",
       "      <td>0.000000</td>\n",
       "      <td>13.316867</td>\n",
       "      <td>Rio Caquena En Vertedero</td>\n",
       "      <td>-17.9942</td>\n",
       "      <td>-69.2550</td>\n",
       "      <td>4652.603986</td>\n",
       "      <td>467.556222</td>\n",
       "    </tr>\n",
       "    <tr>\n",
       "      <th>...</th>\n",
       "      <td>...</td>\n",
       "      <td>...</td>\n",
       "      <td>...</td>\n",
       "      <td>...</td>\n",
       "      <td>...</td>\n",
       "      <td>...</td>\n",
       "      <td>...</td>\n",
       "      <td>...</td>\n",
       "      <td>...</td>\n",
       "      <td>...</td>\n",
       "    </tr>\n",
       "    <tr>\n",
       "      <th>4167816</th>\n",
       "      <td>2019-12-27</td>\n",
       "      <td>12876001</td>\n",
       "      <td>13.513</td>\n",
       "      <td>2.370108</td>\n",
       "      <td>14.717016</td>\n",
       "      <td>Rio Grande En Tierra Del Fuego</td>\n",
       "      <td>-53.8928</td>\n",
       "      <td>-68.8844</td>\n",
       "      <td>259.117332</td>\n",
       "      <td>2841.024341</td>\n",
       "    </tr>\n",
       "    <tr>\n",
       "      <th>4167817</th>\n",
       "      <td>2019-12-28</td>\n",
       "      <td>12876001</td>\n",
       "      <td>13.549</td>\n",
       "      <td>1.265753</td>\n",
       "      <td>14.231168</td>\n",
       "      <td>Rio Grande En Tierra Del Fuego</td>\n",
       "      <td>-53.8928</td>\n",
       "      <td>-68.8844</td>\n",
       "      <td>259.117332</td>\n",
       "      <td>2841.024341</td>\n",
       "    </tr>\n",
       "    <tr>\n",
       "      <th>4167818</th>\n",
       "      <td>2019-12-29</td>\n",
       "      <td>12876001</td>\n",
       "      <td>12.982</td>\n",
       "      <td>0.000000</td>\n",
       "      <td>13.559340</td>\n",
       "      <td>Rio Grande En Tierra Del Fuego</td>\n",
       "      <td>-53.8928</td>\n",
       "      <td>-68.8844</td>\n",
       "      <td>259.117332</td>\n",
       "      <td>2841.024341</td>\n",
       "    </tr>\n",
       "    <tr>\n",
       "      <th>4167819</th>\n",
       "      <td>2019-12-30</td>\n",
       "      <td>12876001</td>\n",
       "      <td>12.633</td>\n",
       "      <td>1.158569</td>\n",
       "      <td>12.725022</td>\n",
       "      <td>Rio Grande En Tierra Del Fuego</td>\n",
       "      <td>-53.8928</td>\n",
       "      <td>-68.8844</td>\n",
       "      <td>259.117332</td>\n",
       "      <td>2841.024341</td>\n",
       "    </tr>\n",
       "    <tr>\n",
       "      <th>4167820</th>\n",
       "      <td>2019-12-31</td>\n",
       "      <td>12876001</td>\n",
       "      <td>12.333</td>\n",
       "      <td>0.175608</td>\n",
       "      <td>13.670356</td>\n",
       "      <td>Rio Grande En Tierra Del Fuego</td>\n",
       "      <td>-53.8928</td>\n",
       "      <td>-68.8844</td>\n",
       "      <td>259.117332</td>\n",
       "      <td>2841.024341</td>\n",
       "    </tr>\n",
       "  </tbody>\n",
       "</table>\n",
       "<p>3352698 rows × 10 columns</p>\n",
       "</div>"
      ],
      "text/plain": [
       "              date  basin_id    flux    precip   temp_max  \\\n",
       "6125    1980-01-01   1001002   1.620  0.000000  11.287282   \n",
       "6126    1980-01-02   1001002   1.240  0.000000  12.078774   \n",
       "6127    1980-01-03   1001002   1.010  0.000000  12.563833   \n",
       "6128    1980-01-04   1001002   0.830  0.000000  13.077723   \n",
       "6129    1980-01-05   1001002   0.753  0.000000  13.316867   \n",
       "...            ...       ...     ...       ...        ...   \n",
       "4167816 2019-12-27  12876001  13.513  2.370108  14.717016   \n",
       "4167817 2019-12-28  12876001  13.549  1.265753  14.231168   \n",
       "4167818 2019-12-29  12876001  12.982  0.000000  13.559340   \n",
       "4167819 2019-12-30  12876001  12.633  1.158569  12.725022   \n",
       "4167820 2019-12-31  12876001  12.333  0.175608  13.670356   \n",
       "\n",
       "                             gauge_name      lat      lon    mean_elev  \\\n",
       "6125           Rio Caquena En Vertedero -17.9942 -69.2550  4652.603986   \n",
       "6126           Rio Caquena En Vertedero -17.9942 -69.2550  4652.603986   \n",
       "6127           Rio Caquena En Vertedero -17.9942 -69.2550  4652.603986   \n",
       "6128           Rio Caquena En Vertedero -17.9942 -69.2550  4652.603986   \n",
       "6129           Rio Caquena En Vertedero -17.9942 -69.2550  4652.603986   \n",
       "...                                 ...      ...      ...          ...   \n",
       "4167816  Rio Grande En Tierra Del Fuego -53.8928 -68.8844   259.117332   \n",
       "4167817  Rio Grande En Tierra Del Fuego -53.8928 -68.8844   259.117332   \n",
       "4167818  Rio Grande En Tierra Del Fuego -53.8928 -68.8844   259.117332   \n",
       "4167819  Rio Grande En Tierra Del Fuego -53.8928 -68.8844   259.117332   \n",
       "4167820  Rio Grande En Tierra Del Fuego -53.8928 -68.8844   259.117332   \n",
       "\n",
       "            area_km2  \n",
       "6125      467.556222  \n",
       "6126      467.556222  \n",
       "6127      467.556222  \n",
       "6128      467.556222  \n",
       "6129      467.556222  \n",
       "...              ...  \n",
       "4167816  2841.024341  \n",
       "4167817  2841.024341  \n",
       "4167818  2841.024341  \n",
       "4167819  2841.024341  \n",
       "4167820  2841.024341  \n",
       "\n",
       "[3352698 rows x 10 columns]"
      ]
     },
     "execution_count": 21,
     "metadata": {},
     "output_type": "execute_result"
    }
   ],
   "source": [
    "# Excluding bases that have less than 7000 records.\n",
    "remove_base_id = list(occurence_by_base_id_df[occurence_by_base_id_df[\"data_records\"] < 7000].index)\n",
    "flux_df = flux_df[~flux_df[\"basin_id\"].isin(remove_base_id)]\n",
    "flux_df"
   ]
  },
  {
   "cell_type": "code",
   "execution_count": 22,
   "id": "ce071ec0",
   "metadata": {},
   "outputs": [
    {
     "data": {
      "text/html": [
       "<div>\n",
       "<style scoped>\n",
       "    .dataframe tbody tr th:only-of-type {\n",
       "        vertical-align: middle;\n",
       "    }\n",
       "\n",
       "    .dataframe tbody tr th {\n",
       "        vertical-align: top;\n",
       "    }\n",
       "\n",
       "    .dataframe thead th {\n",
       "        text-align: right;\n",
       "    }\n",
       "</style>\n",
       "<table border=\"1\" class=\"dataframe\">\n",
       "  <thead>\n",
       "    <tr style=\"text-align: right;\">\n",
       "      <th></th>\n",
       "      <th>flux</th>\n",
       "      <th>precip</th>\n",
       "      <th>temp_max</th>\n",
       "    </tr>\n",
       "  </thead>\n",
       "  <tbody>\n",
       "    <tr>\n",
       "      <th>count</th>\n",
       "      <td>3.352698e+06</td>\n",
       "      <td>3.352698e+06</td>\n",
       "      <td>3.352698e+06</td>\n",
       "    </tr>\n",
       "    <tr>\n",
       "      <th>mean</th>\n",
       "      <td>4.369031e+01</td>\n",
       "      <td>2.826518e+00</td>\n",
       "      <td>1.361471e+01</td>\n",
       "    </tr>\n",
       "    <tr>\n",
       "      <th>std</th>\n",
       "      <td>1.509129e+02</td>\n",
       "      <td>8.685313e+00</td>\n",
       "      <td>6.639582e+00</td>\n",
       "    </tr>\n",
       "    <tr>\n",
       "      <th>min</th>\n",
       "      <td>0.000000e+00</td>\n",
       "      <td>0.000000e+00</td>\n",
       "      <td>-1.160359e+01</td>\n",
       "    </tr>\n",
       "    <tr>\n",
       "      <th>25%</th>\n",
       "      <td>8.740000e-01</td>\n",
       "      <td>0.000000e+00</td>\n",
       "      <td>9.143759e+00</td>\n",
       "    </tr>\n",
       "    <tr>\n",
       "      <th>50%</th>\n",
       "      <td>5.090000e+00</td>\n",
       "      <td>0.000000e+00</td>\n",
       "      <td>1.317996e+01</td>\n",
       "    </tr>\n",
       "    <tr>\n",
       "      <th>75%</th>\n",
       "      <td>2.760000e+01</td>\n",
       "      <td>3.852723e-01</td>\n",
       "      <td>1.801864e+01</td>\n",
       "    </tr>\n",
       "    <tr>\n",
       "      <th>max</th>\n",
       "      <td>1.580500e+04</td>\n",
       "      <td>2.132120e+02</td>\n",
       "      <td>4.081117e+01</td>\n",
       "    </tr>\n",
       "  </tbody>\n",
       "</table>\n",
       "</div>"
      ],
      "text/plain": [
       "               flux        precip      temp_max\n",
       "count  3.352698e+06  3.352698e+06  3.352698e+06\n",
       "mean   4.369031e+01  2.826518e+00  1.361471e+01\n",
       "std    1.509129e+02  8.685313e+00  6.639582e+00\n",
       "min    0.000000e+00  0.000000e+00 -1.160359e+01\n",
       "25%    8.740000e-01  0.000000e+00  9.143759e+00\n",
       "50%    5.090000e+00  0.000000e+00  1.317996e+01\n",
       "75%    2.760000e+01  3.852723e-01  1.801864e+01\n",
       "max    1.580500e+04  2.132120e+02  4.081117e+01"
      ]
     },
     "execution_count": 22,
     "metadata": {},
     "output_type": "execute_result"
    }
   ],
   "source": [
    "# Now lets see the events satistical information \n",
    "flux_df[[\"flux\",\"precip\",\"temp_max\"]].describe()\n",
    "# Flux and precipitation are ok but for temp max there are some negative temperatures, lets take a look into it."
   ]
  },
  {
   "cell_type": "code",
   "execution_count": 24,
   "id": "9459c11a",
   "metadata": {},
   "outputs": [
    {
     "data": {
      "text/plain": [
       "<AxesSubplot:title={'center':'LatxLon tuples for temp max < 0ºC'}, xlabel='lat', ylabel='lon'>"
      ]
     },
     "execution_count": 24,
     "metadata": {},
     "output_type": "execute_result"
    },
    {
     "data": {
      "image/png": "[encoded data removed]",
      "text/plain": [
       "<Figure size 432x288 with 1 Axes>"
      ]
     },
     "metadata": {
      "needs_background": "light"
     },
     "output_type": "display_data"
    }
   ],
   "source": [
    "# Cross checking latitude and Longitude info to have an idea where they are located.\n",
    "place_minus_temp = flux_df[flux_df[\"temp_max\"] < 0][[\"lat\",\"lon\",\"temp_max\"]].copy()\n",
    "place_minus_temp[\"coordinates\"] = place_minus_temp[\"lat\"].astype(str) + \",\" + place_minus_temp[\"lon\"].astype(str)\n",
    "place_minus_temp.plot.scatter(x = 'lat',y='lon',c=\"red\",marker=\"^\",title=\"LatxLon tuples for temp max < 0ºC\")\n",
    "\n",
    "# Looking at the sctter plot generated, those places seens to be in the very west of Chile, near the mountains and the ocean,\n",
    "# So it makes sense to have lower temperatures on those place, hence, everything is ok."
   ]
  },
  {
   "cell_type": "code",
   "execution_count": 27,
   "id": "6537e010",
   "metadata": {},
   "outputs": [
    {
     "data": {
      "image/png": "[encoded data removed]",
      "text/plain": [
       "<Figure size 432x288 with 1 Axes>"
      ]
     },
     "metadata": {
      "needs_background": "light"
     },
     "output_type": "display_data"
    }
   ],
   "source": [
    "# Now we will look into the data distribution along the flux, precip and temp_max columns\n",
    "# We will scale the numbers to put all of them on the same plot using the Min Max Scaler from sklearn.\n",
    "eventes_sccaled_df = flux_df[[\"flux\",\"precip\",\"temp_max\"]].copy()\n",
    "eventes_sccaled_df[[\"flux\",\"precip\",\"temp_max\"]] = preprocessing.MinMaxScaler().fit_transform(eventes_sccaled_df[[\"flux\",\"precip\",\"temp_max\"]])\n",
    "boxplot_events_scaled = eventes_sccaled_df.boxplot(column=[\"flux\",\"precip\",\"temp_max\"], return_type='axes')\n",
    "\n",
    "# Despite the boxplot showing we would have a lot of \"outliers\" they seen to be making sense if we analyze the satistical\n",
    "# information of the dataset (flux_df[[\"flux\",\"precip\",\"temp_max\"]].describe()). So far so good.\n",
    "\n",
    "# To run for each, just run the following commands:\n",
    "# >>>boxplot_flux = flux_df.boxplot(column=['flux'], return_type='axes')\n",
    "# >>>boxplot_temp_max = flux_df.boxplot(column=['precip'], return_type='axes')\n",
    "# >>>boxplot_precipitation = flux_df.boxplot(column=['temp_max'], return_type='axes')"
   ]
  },
  {
   "cell_type": "code",
   "execution_count": 28,
   "id": "9ae76fa1",
   "metadata": {},
   "outputs": [
    {
     "data": {
      "text/plain": [
       "[]"
      ]
     },
     "execution_count": 28,
     "metadata": {},
     "output_type": "execute_result"
    }
   ],
   "source": [
    "# Finally, we will check if every year has at list one record.\n",
    "years_data_list = list(occurence_by_year_df.index)\n",
    "years_not_in_the_dataset = []\n",
    "for y in list(range(min(years_data_list),max(years_data_list),1)):\n",
    "    if y not in years_data_list:\n",
    "        years_not_in_the_dataset.append(y)\n",
    "years_not_in_the_dataset\n",
    "# Since the list is empty, there are data for every year."
   ]
  },
  {
   "cell_type": "markdown",
   "id": "add54ee7",
   "metadata": {},
   "source": [
    "# 3. Plot Flux, Temperature and Precipitation"
   ]
  },
  {
   "cell_type": "markdown",
   "id": "c50a2e23",
   "metadata": {},
   "source": [
    "Plot one time series"
   ]
  },
  {
   "cell_type": "code",
   "execution_count": 36,
   "id": "b8cbb11d",
   "metadata": {},
   "outputs": [],
   "source": [
    "def plot_one_timeserie(cod_station, variable, min_date, max_date):\n",
    "    '''\n",
    "    This function will plot the time series for a given variable, base id, start\n",
    "    and end date within the dataset. First this function will create a temporary\n",
    "    dataframe to apply all the filters without changing the original one. After\n",
    "    data it will plot the time series.\n",
    "\n",
    "    Parameters\n",
    "    ----------\n",
    "    cod_station : String\n",
    "        Base Id (Any values from column basin_id in the dataset).\n",
    "    variable : String\n",
    "        Variable to be seen in the plot (flux, precip or temp_max).\n",
    "    min_date : String\n",
    "        Start date for the time series (Must be in YYYY-MM-DD format).\n",
    "    max_date : String\n",
    "        End date for the time series (Must be in YYYY-MM-DD format).\n",
    "\n",
    "    '''\n",
    "    #Filter the date\n",
    "    temp_df = flux_df[(flux_df[\"basin_id\"]==cod_station) & (flux_df[\"date\"]>=min_date) & (flux_df[\"date\"]<=max_date)][[\"date\",\"{}\".format(variable)]].copy()\n",
    "    \n",
    "    #Set date as an index for the time series\n",
    "    temp_df = temp_df.set_index(\"date\")\n",
    "    \n",
    "    #Plot the data\n",
    "    plt.plot(temp_df[\"{}\".format(variable)])\n",
    "    plt.xlabel(\"Date\")\n",
    "    plt.ylabel(\"{}\".format(variable))\n",
    "    plt.title(\"{} time series for base {}\".format(variable, cod_station))\n",
    "    plt.show()\n"
   ]
  },
  {
   "cell_type": "code",
   "execution_count": 37,
   "id": "d62bee72",
   "metadata": {},
   "outputs": [
    {
     "data": {
      "image/png": "[encoded data removed]",
      "text/plain": [
       "<Figure size 432x288 with 1 Axes>"
      ]
     },
     "metadata": {
      "needs_background": "light"
     },
     "output_type": "display_data"
    }
   ],
   "source": [
    "# Run one example\n",
    "plot_one_timeserie(\"5410002\",\"flux\",'2018-05-06','2019-06-01')"
   ]
  },
  {
   "cell_type": "markdown",
   "id": "da51a7ea",
   "metadata": {},
   "source": [
    "Plot three time series at the same time"
   ]
  },
  {
   "cell_type": "code",
   "execution_count": 38,
   "id": "bb2f16fc",
   "metadata": {},
   "outputs": [],
   "source": [
    "def plot_three_timeseries(cod_station, min_date, max_date):\n",
    "    '''\n",
    "    This function will plot the Flux, Preciptation and Max Temperature time series\n",
    "    for a given base id, start and end date within the dataset. \n",
    "    First this function will create a temporary dataframe to apply all the\n",
    "    filters without changing the original one. After data it will plot the time series.\n",
    "\n",
    "    Parameters\n",
    "    ----------\n",
    "    cod_station : String\n",
    "        Base Id (Any values from column basin_id in the dataset).\n",
    "    min_date : String\n",
    "        Start date for the time series (Must be in YYYY-MM-DD format).\n",
    "    max_date : String\n",
    "        End date for the time series (Must be in YYYY-MM-DD format).\n",
    "\n",
    "    '''\n",
    "    #Filter the date\n",
    "    temp_df = flux_df[(flux_df[\"basin_id\"]==cod_station) & (flux_df[\"date\"]>=min_date) & (flux_df[\"date\"]<=max_date)][[\"date\",\"flux\",\"precip\",\"temp_max\"]].copy()\n",
    "    \n",
    "    #Set date as an index for the time series\n",
    "    temp_df = temp_df.set_index(\"date\")\n",
    "    \n",
    "    #Scaling all the variables with MinMaxScaler from sklearn\n",
    "    temp_df[[\"flux\",\"precip\",\"temp_max\"]] = preprocessing.MinMaxScaler().fit_transform(temp_df[[\"flux\",\"precip\",\"temp_max\"]])\n",
    "    \n",
    "    #Plot the data\n",
    "    plt.plot(temp_df[\"flux\"],label=\"Flux\",color=\"orange\")\n",
    "    plt.plot(temp_df[\"precip\"],label=\"Preciptation\",color=\"green\")\n",
    "    plt.plot(temp_df[\"temp_max\"],label=\"Max temperature\",color=\"red\")\n",
    "    plt.xlabel(\"Date\")\n",
    "    plt.ylabel(\"Variables\")\n",
    "    plt.title(\"Flux, Preciptation and Max temperature time series for base {}\".format(cod_station))\n",
    "    plt.legend(loc=0) #Best Position\n",
    "    plt.show()\n"
   ]
  },
  {
   "cell_type": "code",
   "execution_count": 39,
   "id": "3925f4c9",
   "metadata": {},
   "outputs": [
    {
     "data": {
      "image/png": "[encoded data removed]",
      "text/plain": [
       "<Figure size 432x288 with 1 Axes>"
      ]
     },
     "metadata": {
      "needs_background": "light"
     },
     "output_type": "display_data"
    }
   ],
   "source": [
    "# Run one example\n",
    "plot_three_timeseries(\"5410002\",'1980-01-01','1990-01-01')"
   ]
  },
  {
   "cell_type": "markdown",
   "id": "dcaffbd7",
   "metadata": {},
   "source": [
    "# 4. Create Variables (flux_extreme, temp_extreme, precip_extreme)"
   ]
  },
  {
   "cell_type": "code",
   "execution_count": 35,
   "id": "b04e0c18",
   "metadata": {},
   "outputs": [],
   "source": [
    "# First we will create a function to find the season for a given date.\n",
    "def find_season_south_hemisphere(x):\n",
    "    '''\n",
    "    This function will define the season of a give date.\n",
    "\n",
    "    Parameters\n",
    "    ----------\n",
    "    x : Pd.Series\n",
    "        Series of a pd.Dataframe.\n",
    "\n",
    "    Returns\n",
    "    -------\n",
    "    season : String\n",
    "        Season for the given date.\n",
    "\n",
    "    '''\n",
    "    #Since x will be the date record of a pd.Series, we will extract the day and month\n",
    "    month = x.month\n",
    "    day = x.day\n",
    "    \n",
    "    if month in [1,2,3]:\n",
    "        season = \"Summer\"\n",
    "    elif month in [4,5,6]:\n",
    "        season = \"Autumn\"\n",
    "    elif month in [7,8,9]:\n",
    "        season = \"Winter\"\n",
    "    else:\n",
    "        season = \"Spring\"\n",
    "    \n",
    "    if month == 3 and day >= 20:\n",
    "        season = \"Autumn\"\n",
    "    elif month == 6 and day >= 21:\n",
    "        season = \"Winter\"\n",
    "    elif month == 9 and day >= 22:\n",
    "        season = \"Spring\"\n",
    "    elif month == 12 and day >= 21:\n",
    "        season = \"Summer\"\n",
    "    \n",
    "    return season"
   ]
  },
  {
   "cell_type": "code",
   "execution_count": 40,
   "id": "00c82b6f",
   "metadata": {},
   "outputs": [],
   "source": [
    "# Insert \"season\" column into the dataframe.\n",
    "flux_df[\"season\"] = flux_df[\"date\"].map(find_season_south_hemisphere)"
   ]
  },
  {
   "cell_type": "code",
   "execution_count": 41,
   "id": "80161b85",
   "metadata": {},
   "outputs": [],
   "source": [
    "# Calculate the 95 percentile for all seasons\n",
    "flux_95_percentile = {\n",
    "    \"Summer\": np.percentile(flux_df[(flux_df[\"season\"]==\"Summer\")][\"flux\"],95),\n",
    "    \"Autumn\": np.percentile(flux_df[(flux_df[\"season\"]==\"Autumn\")][\"flux\"],95),\n",
    "    \"Winter\": np.percentile(flux_df[(flux_df[\"season\"]==\"Winter\")][\"flux\"],95),\n",
    "    \"Spring\": np.percentile(flux_df[(flux_df[\"season\"]==\"Spring\")][\"flux\"],95)\n",
    "}\n",
    "\n",
    "#Find the preciptation's 95 Percentiles for all seasons\n",
    "precip_95_percentile = {\n",
    "    \"Summer\": np.percentile(flux_df[(flux_df[\"season\"]==\"Summer\")][\"precip\"],95),\n",
    "    \"Autumn\": np.percentile(flux_df[(flux_df[\"season\"]==\"Autumn\")][\"precip\"],95),\n",
    "    \"Winter\": np.percentile(flux_df[(flux_df[\"season\"]==\"Winter\")][\"precip\"],95),\n",
    "    \"Spring\": np.percentile(flux_df[(flux_df[\"season\"]==\"Spring\")][\"precip\"],95)\n",
    "}\n",
    "\n",
    "#Find the max temperature's 95 Percentiles for all seasons\n",
    "temp_max_95_percentile = {\n",
    "    \"Summer\": np.percentile(flux_df[(flux_df[\"season\"]==\"Summer\")][\"temp_max\"],95),\n",
    "    \"Autumn\": np.percentile(flux_df[(flux_df[\"season\"]==\"Autumn\")][\"temp_max\"],95),\n",
    "    \"Winter\": np.percentile(flux_df[(flux_df[\"season\"]==\"Winter\")][\"temp_max\"],95),\n",
    "    \"Spring\": np.percentile(flux_df[(flux_df[\"season\"]==\"Spring\")][\"temp_max\"],95)\n",
    "}"
   ]
  },
  {
   "cell_type": "code",
   "execution_count": 42,
   "id": "bad9e57a",
   "metadata": {},
   "outputs": [],
   "source": [
    "# Create the columns for those variables and assigned the values based on the conditions provided in the instructions.\n",
    "flux_df[[\"flux_extreme\",\"precip_extreme\",\"temp_extreme\"]] = 0\n",
    "\n",
    "for season in ['Winter', 'Spring', 'Summer', 'Autumn']:\n",
    "    flux_df.loc[(flux_df[\"season\"]==season) & (flux_df[\"flux\"]>flux_95_percentile[season]),\"flux_extreme\"] = 1\n",
    "    flux_df.loc[(flux_df[\"season\"]==season) & (flux_df[\"precip\"]>precip_95_percentile[season]),\"precip_extreme\"] = 1\n",
    "    flux_df.loc[(flux_df[\"season\"]==season) & (flux_df[\"temp_max\"]>temp_max_95_percentile[season]),\"temp_extreme\"] = 1"
   ]
  },
  {
   "cell_type": "markdown",
   "id": "6554f2db",
   "metadata": {},
   "source": [
    "In my opinion, this is not the best way to do it because along the years, the temperatures for all the seasons were changing so\n",
    "we are not being fair to the oldest values when calculating the 95 percentile for the oldest value. My approach would be to follow the same methodology but instead of using all the records, use only to the respectively year that is being analyzed."
   ]
  },
  {
   "cell_type": "markdown",
   "id": "4197e636",
   "metadata": {},
   "source": [
    "# 5. Plot Variable flux_extreme"
   ]
  },
  {
   "cell_type": "code",
   "execution_count": 43,
   "id": "88d9560d",
   "metadata": {},
   "outputs": [
    {
     "data": {
      "image/png": "[encoded data removed]",
      "text/plain": [
       "<Figure size 432x288 with 1 Axes>"
      ]
     },
     "metadata": {
      "needs_background": "light"
     },
     "output_type": "display_data"
    }
   ],
   "source": [
    "# For data visualization purpose, we will select only the top 5 base Ids based on data record count, if it is desirable to see\n",
    "# all of them, just delete \"[:5]\" on the next line.\n",
    "top_5_bases = list(flux_df['basin_id'].value_counts().index)[:5]\n",
    "flux_extreme_df_plot = flux_df[flux_df['basin_id'].isin(top_5_bases)].copy()\n",
    "flux_extreme_df_plot[\"year\"] = flux_extreme_df_plot[\"date\"].apply(lambda x: x.year)\n",
    "flux_extreme_df_plot = flux_extreme_df_plot.sort_values(by=['basin_id', 'year'],ascending=[True,True])\n",
    "flux_extreme_df_plot = flux_extreme_df_plot[[\"basin_id\",\"flux_extreme\",\"year\"]].groupby([\"basin_id\",\"year\"],as_index=False).sum()\n",
    "\n",
    "for base in top_5_bases:\n",
    "    x = flux_extreme_df_plot[flux_extreme_df_plot[\"basin_id\"]==base][\"year\"]\n",
    "    y = flux_extreme_df_plot[flux_extreme_df_plot[\"basin_id\"]==base][\"flux_extreme\"]\n",
    "    plt.plot(x, y, label = base)\n",
    "    \n",
    "plt.legend()\n",
    "plt.show()"
   ]
  },
  {
   "cell_type": "markdown",
   "id": "825c4fff",
   "metadata": {},
   "source": [
    "If we take a look into the plot above, it is possible to see that there are different patterns for each base Ids, for example, there are some that have spikes form extreme flux's events along the years, but some remains flat for almost all the years."
   ]
  },
  {
   "cell_type": "markdown",
   "id": "b4de8bb8",
   "metadata": {},
   "source": [
    "# 6. Plot extreme events during time"
   ]
  },
  {
   "cell_type": "code",
   "execution_count": 44,
   "id": "2c75dd80",
   "metadata": {},
   "outputs": [],
   "source": [
    "# First we will create the function to plot those extreme events\n",
    "def plot_extreme_events_timeseries(df,extreme_event):\n",
    "    '''\n",
    "    This function will plot a Extreme Event time series.\n",
    "    First this function will create a temporary dataframe to apply all the\n",
    "    filters without changing the original one. After data it will plot the time series.\n",
    "\n",
    "    Parameters\n",
    "    ----------\n",
    "    df : pandas.DataFrame\n",
    "        Initial Dataset.\n",
    "    extreme_event : String\n",
    "        flux_extreme, precip_extreme or temp_extreme.\n",
    "\n",
    "    '''\n",
    "    #Filter the data\n",
    "    temp_df = df[[\"date\",extreme_event]].copy()\n",
    "    temp_df[\"ocurrence\"] = 1\n",
    "    temp_df = temp_df.groupby(by=[\"date\"]).sum()\n",
    "    temp_df[\"{}_percentage\".format(extreme_event)] = 100*(temp_df[\"{}\".format(extreme_event)]/temp_df[\"ocurrence\"]).round(4)\n",
    "\n",
    "    #Plot the data\n",
    "    plt.plot(temp_df[\"{}_percentage\".format(extreme_event)],label=extreme_event,color=\"blue\",linewidth=0.5)\n",
    "    plt.xlabel(\"Date\")\n",
    "    plt.ylabel(\"Percentage\")\n",
    "    plt.title(\"Percentage of {} Events time series\".format(extreme_event))\n",
    "    plt.legend(loc=0) #Best Position\n",
    "    plt.show()"
   ]
  },
  {
   "cell_type": "code",
   "execution_count": 45,
   "id": "c2283120",
   "metadata": {},
   "outputs": [
    {
     "data": {
      "image/png": "[encoded data removed]",
      "text/plain": [
       "<Figure size 432x288 with 1 Axes>"
      ]
     },
     "metadata": {
      "needs_background": "light"
     },
     "output_type": "display_data"
    }
   ],
   "source": [
    "# Plot for Extreme Flux events\n",
    "plot_extreme_events_timeseries(flux_df,\"flux_extreme\")\n",
    "# Despite the spikes, they have became more often."
   ]
  },
  {
   "cell_type": "code",
   "execution_count": 46,
   "id": "eb13cc7a",
   "metadata": {},
   "outputs": [
    {
     "data": {
      "image/png": "[encoded data removed]",
      "text/plain": [
       "<Figure size 432x288 with 1 Axes>"
      ]
     },
     "metadata": {
      "needs_background": "light"
     },
     "output_type": "display_data"
    }
   ],
   "source": [
    "# Plot for Extreme Precipitation events\n",
    "plot_extreme_events_timeseries(flux_df,\"precip_extreme\")\n",
    "# Despite the spikes, their seasonality remains the same"
   ]
  },
  {
   "cell_type": "code",
   "execution_count": 47,
   "id": "36f34ab9",
   "metadata": {},
   "outputs": [
    {
     "data": {
      "image/png": "[encoded data removed]",
      "text/plain": [
       "<Figure size 432x288 with 1 Axes>"
      ]
     },
     "metadata": {
      "needs_background": "light"
     },
     "output_type": "display_data"
    }
   ],
   "source": [
    "# Plot for Extreme Temperature events\n",
    "plot_extreme_events_timeseries(flux_df,\"temp_extreme\")\n",
    "# Despite the spikes, their seasonality remains the same"
   ]
  },
  {
   "cell_type": "markdown",
   "id": "cf607e49",
   "metadata": {},
   "source": [
    "# 7. Extreme Flux Prediction"
   ]
  },
  {
   "cell_type": "code",
   "execution_count": 60,
   "id": "59fd1972",
   "metadata": {},
   "outputs": [],
   "source": [
    "# Model proposal: Logistic Regression model for a given base id.\n",
    "# Varaibles created: flux_extreme_yesterday - 1 if a flux extreme event was registred on the day before, 0 otherwise.\n",
    "# Variable Chosen: Based on the correlation Matrix: \"flux\", \"precip\" and \"flux_extreme_yesterday\". \n",
    "# 'basin_id','gauge_name','lat','lon' were not considered in the model because they would be redundant to basin_id\n",
    "# How to used: Once in production, once you input the information for the present day, it will output the probability of an\n",
    "# extreme flux event for the next day.\n",
    "def predictive_model_logistic_regression(base_id):\n",
    "    '''\n",
    "    This function will create and run a logistic regression model for a given\n",
    "    base id and will print two correlation matrices, the first one is related\n",
    "    to all the variables and the second one to the columns that have remained.\n",
    "    In addition, it will print the accuracy and confusion matrix for this model.\n",
    "\n",
    "    Parameters\n",
    "    ----------\n",
    "    base_id : String\n",
    "        Base Id.\n",
    "\n",
    "    Returns\n",
    "    -------\n",
    "    Nothing.\n",
    "\n",
    "    '''\n",
    "    # Calculate the percentile just as before\n",
    "    model_df = flux_df[flux_df[\"basin_id\"]==base_id]\n",
    "    model_df = model_df.reset_index(drop=True)\n",
    "    model_df_flux_95_percentile = {\n",
    "        \"Summer\": np.percentile(model_df[(model_df[\"season\"]==\"Summer\")][\"flux\"],95),\n",
    "        \"Autumn\": np.percentile(model_df[(model_df[\"season\"]==\"Autumn\")][\"flux\"],95),\n",
    "        \"Winter\": np.percentile(model_df[(model_df[\"season\"]==\"Winter\")][\"flux\"],95),\n",
    "        \"Spring\": np.percentile(model_df[(model_df[\"season\"]==\"Spring\")][\"flux\"],95)\n",
    "    }\n",
    "    \n",
    "    # Check if flux is extreme and insert into the data \n",
    "    for season in ['Winter', 'Spring', 'Summer', 'Autumn']:\n",
    "        model_df.loc[(model_df[\"season\"]==season) & (model_df[\"flux\"]>model_df_flux_95_percentile[season]),\"flux_extreme\"] = 1\n",
    "    \n",
    "    # Drop columns that are not necessary\n",
    "    model_df.drop(columns=['basin_id','gauge_name','lat','lon'],inplace=True)\n",
    "    \n",
    "    # Convert seasons strings into factor to be usefull to the model\n",
    "    model_df[\"season\"].replace({'Winter':1, 'Spring':2, 'Summer':3, 'Autumn':4},inplace=True)\n",
    "    \n",
    "    # Insert month info\n",
    "    model_df[\"month\"]=model_df[\"date\"].apply(lambda x: x.month)\n",
    "    \n",
    "    # Insert information if the flux was extreme on the next day\n",
    "    model_df[\"flux_extreme_next_day\"] = model_df[\"flux_extreme\"].shift(-1)\n",
    "    model_df = model_df.dropna()\n",
    "    \n",
    "    # Generate first correlation matrix to check which columns to drop\n",
    "    correlation_matrix = model_df.corr(method ='pearson') #Mean elevation and area does not have any corr, delete\n",
    "    correlation_matrix\n",
    "    model_df.drop(columns=['area_km2','mean_elev'],inplace=True)\n",
    "    \n",
    "    # Generate secon correlation matrix to see if they remain.\n",
    "    correlation_matrix = model_df.corr(method ='pearson')\n",
    "    correlation_matrix # Only the correlation for flux, precipitation and flux_extrem_yesterday are revlevant for the problem.\n",
    "    \n",
    "    # Data prep for training and test datasets\n",
    "    independent_variables_df = model_df[[\"flux\",\"precip\",\"flux_extreme\"]]\n",
    "    dependent_variables_df = model_df[\"flux_extreme_next_day\"]\n",
    "    X_train,X_test,y_train,y_test=train_test_split(independent_variables_df,dependent_variables_df,test_size=0.3)\n",
    "    \n",
    "    # Run logistics Regression\n",
    "    logistic_regression =  LogisticRegression() \n",
    "    logistic_regression.fit(X_train,y_train)\n",
    "    y_pred = logistic_regression.predict(X_test)\n",
    "\n",
    "    # Calculate model results\n",
    "    accuracy = accuracy_score(y_test,y_pred)*100\n",
    "    confusion_mat = confusion_matrix(y_test,y_pred)\n",
    "    \n",
    "    # Print the results\n",
    "    print(\"Accuracy is\",accuracy)\n",
    "    print(\"Confusion Matrix\")\n",
    "    sns.heatmap(confusion_mat, annot=True,fmt='g',cmap=\"Blues\")"
   ]
  },
  {
   "cell_type": "code",
   "execution_count": 61,
   "id": "38332b04",
   "metadata": {
    "scrolled": true
   },
   "outputs": [
    {
     "name": "stdout",
     "output_type": "stream",
     "text": [
      "Accuracy is 98.4159779614325\n",
      "Confusion Matrix\n"
     ]
    },
    {
     "data": {
      "image/png": "[encoded data removed]",
      "text/plain": [
       "<Figure size 432x288 with 2 Axes>"
      ]
     },
     "metadata": {
      "needs_background": "light"
     },
     "output_type": "display_data"
    }
   ],
   "source": [
    "predictive_model_logistic_regression(\"5410002\")"
   ]
  },
  {
   "cell_type": "code",
   "execution_count": 64,
   "id": "95e7338e",
   "metadata": {},
   "outputs": [],
   "source": [
    "def predictive_model_logistic_regression_next_day(base_id,flux_present_day,precipitation_present_day,flux_extreme_present_day):\n",
    "    '''\n",
    "    This function will create and run a logistic regression model for a given\n",
    "    base id and data from present day (flux,precipitation and temperature) to predict\n",
    "    the probability of an extreme flux event on the next day.\n",
    "\n",
    "    Parameters\n",
    "    ----------\n",
    "    base_id : String\n",
    "        Base Id.\n",
    "    flux_present_day : Int\n",
    "        Flux data for the present day.\n",
    "    precipitation_present_day : Int\n",
    "        Precipitation data for the present day.\n",
    "    flux_extreme_present_day : Int\n",
    "        Extreme Flux evento for present day.\n",
    "\n",
    "    Returns\n",
    "    -------\n",
    "    Nothing.\n",
    "\n",
    "    '''\n",
    "    # Calculate the percentile just as before\n",
    "    model_df = flux_df[flux_df[\"basin_id\"]==base_id]\n",
    "    model_df = model_df.reset_index(drop=True)\n",
    "    model_df_flux_95_percentile = {\n",
    "        \"Summer\": np.percentile(model_df[(model_df[\"season\"]==\"Summer\")][\"flux\"],95),\n",
    "        \"Autumn\": np.percentile(model_df[(model_df[\"season\"]==\"Autumn\")][\"flux\"],95),\n",
    "        \"Winter\": np.percentile(model_df[(model_df[\"season\"]==\"Winter\")][\"flux\"],95),\n",
    "        \"Spring\": np.percentile(model_df[(model_df[\"season\"]==\"Spring\")][\"flux\"],95)\n",
    "    }\n",
    "    \n",
    "    # Check if flux is extreme and insert into the data \n",
    "    for season in ['Winter', 'Spring', 'Summer', 'Autumn']:\n",
    "        model_df.loc[(model_df[\"season\"]==season) & (model_df[\"flux\"]>model_df_flux_95_percentile[season]),\"flux_extreme\"] = 1\n",
    "    \n",
    "    # Drop columns that are not necessary\n",
    "    model_df.drop(columns=['basin_id','gauge_name','lat','lon'],inplace=True)\n",
    "    \n",
    "    # Convert seasons strings into factor to be usefull to the model\n",
    "    model_df[\"season\"].replace({'Winter':1, 'Spring':2, 'Summer':3, 'Autumn':4},inplace=True)\n",
    "    \n",
    "    # Insert month info\n",
    "    model_df[\"month\"]=model_df[\"date\"].apply(lambda x: x.month)\n",
    "    \n",
    "    # Insert information if the flux was extreme on the next day\n",
    "    model_df[\"flux_extreme_next_day\"] = model_df[\"flux_extreme\"].shift(-1)\n",
    "    model_df = model_df.dropna()\n",
    "    \n",
    "    # Generate first correlation matrix to check which columns to drop\n",
    "    correlation_matrix = model_df.corr(method ='pearson') #Mean elevation and area does not have any corr, delete\n",
    "    correlation_matrix\n",
    "    model_df.drop(columns=['area_km2','mean_elev'],inplace=True)\n",
    "    \n",
    "    # Generate secon correlation matrix to see if they remain.\n",
    "    correlation_matrix = model_df.corr(method ='pearson')\n",
    "    correlation_matrix # Only the correlation for flux, precipitation and flux_extrem_yesterday are revlevant for the problem.\n",
    "    \n",
    "    # Data prep for training and test datasets\n",
    "    independent_variables_df = model_df[[\"flux\",\"precip\",\"flux_extreme\"]]\n",
    "    dependent_variables_df = model_df[\"flux_extreme_next_day\"]\n",
    "    X_train,X_test,y_train,y_test=train_test_split(independent_variables_df,dependent_variables_df,test_size=0.3)\n",
    "    \n",
    "    # Run logistics Regression\n",
    "    logistic_regression =  LogisticRegression() \n",
    "    logistic_regression.fit(X_train,y_train)\n",
    "    \n",
    "    # Probability for next day\n",
    "    predict_tomorrow_info_df =  pd.DataFrame(np.array([[flux_present_day,precipitation_present_day,flux_extreme_present_day]]),\n",
    "                   columns=['flux', 'precip', 'flux_extreme'])\n",
    "    y_pred_probability = logistic_regression.predict_proba(predict_tomorrow_info_df)\n",
    "    probability = y_pred_probability[0][-1] \n",
    "    \n",
    "    # Print the results\n",
    "    print(\"Probability of extreme flux event for next day is \",round(probability*100,2),\"%\")"
   ]
  },
  {
   "cell_type": "code",
   "execution_count": 63,
   "id": "fc741332",
   "metadata": {},
   "outputs": [
    {
     "name": "stdout",
     "output_type": "stream",
     "text": [
      "Probability of extreme flux event for next day is  68.15 %\n"
     ]
    }
   ],
   "source": [
    "predictive_model_logistic_regression_next_day(\"5410002\",53,0,1)"
   ]
  },
  {
   "cell_type": "markdown",
   "id": "f95353f3",
   "metadata": {},
   "source": [
    "# 8. Analyze Model Results"
   ]
  },
  {
   "cell_type": "markdown",
   "id": "61267f0a",
   "metadata": {},
   "source": [
    "a.) \n",
    "Performance of the model: 98.7%\n",
    "Metrics consider to be best suited for this problem: During the\n",
    "Most Important Variables: Flux (\"flux\"),Precipitation (\"precip\") and Extreme Flux Event (\"flux_extreme\")\n",
    "About the results: At first I've though that the model could be over-fitting, but after performing additional tests, the model\n",
    "remain with a high performance. When looking at the confusion matrix one good thing to point it out is that we have low cases of false negative (FN) what is a good thing, because it is desirabled to reduce this number as much as possible. "
   ]
  },
  {
   "cell_type": "markdown",
   "id": "5001b7ba",
   "metadata": {},
   "source": [
    "b.)\n",
    "Metrics used in the model: Hold-out of 70%/30% (70% for training and 30% for testing), penalty: L2, solver: lbfgs\n",
    "Is it a useful model: In my opinion this is a useful model due to the fact that on the present day, it is possible to predict the probability of the next day, with further tunning in the model, this range could be extend to weeks, giving more time for a decision making process."
   ]
  }
 ],
 "metadata": {
  "kernelspec": {
   "display_name": "Python 3 (ipykernel)",
   "language": "python",
   "name": "python3"
  },
  "language_info": {
   "codemirror_mode": {
    "name": "ipython",
    "version": 3
   },
   "file_extension": ".py",
   "mimetype": "text/x-python",
   "name": "python",
   "nbconvert_exporter": "python",
   "pygments_lexer": "ipython3",
   "version": "3.7.11"
  }
 },
 "nbformat": 4,
 "nbformat_minor": 5
}
